{
 "cells": [
  {
   "cell_type": "markdown",
   "id": "553dbe77",
   "metadata": {},
   "source": [
    "<div style=\"text-align: right\"> Author: Yashmine Noor Islami </div>"
   ]
  },
  {
   "cell_type": "markdown",
   "id": "abf05cad",
   "metadata": {},
   "source": [
    "# Import Libraries"
   ]
  },
  {
   "cell_type": "code",
   "execution_count": 1,
   "id": "895f458c",
   "metadata": {},
   "outputs": [],
   "source": [
    "import pandas as pd\n",
    "import matplotlib.pyplot as plt\n",
    "import numpy as np"
   ]
  },
  {
   "cell_type": "markdown",
   "id": "baa49998",
   "metadata": {},
   "source": [
    "# Load Dataset"
   ]
  },
  {
   "cell_type": "code",
   "execution_count": 2,
   "id": "bc091ff6",
   "metadata": {},
   "outputs": [
    {
     "name": "stdout",
     "output_type": "stream",
     "text": [
      "<class 'pandas.core.frame.DataFrame'>\n",
      "RangeIndex: 621 entries, 0 to 620\n",
      "Data columns (total 17 columns):\n",
      " #   Column              Non-Null Count  Dtype  \n",
      "---  ------              --------------  -----  \n",
      " 0   loan_id             621 non-null    object \n",
      " 1   birth_date          572 non-null    object \n",
      " 2   phone_number        569 non-null    float64\n",
      " 3   gender              608 non-null    object \n",
      " 4   married             618 non-null    object \n",
      " 5   dependents          605 non-null    object \n",
      " 6   education           620 non-null    object \n",
      " 7   self_employed       588 non-null    object \n",
      " 8   applicant_income    612 non-null    float64\n",
      " 9   coapplicant_income  621 non-null    float64\n",
      " 10  loan_amount         621 non-null    int64  \n",
      " 11  loan_term_month     621 non-null    int64  \n",
      " 12  loan_term_year      621 non-null    int64  \n",
      " 13  credit_history      570 non-null    float64\n",
      " 14  has_credit_card     88 non-null     object \n",
      " 15  property_type       620 non-null    object \n",
      " 16  loan_status         621 non-null    object \n",
      "dtypes: float64(4), int64(3), object(10)\n",
      "memory usage: 82.6+ KB\n"
     ]
    }
   ],
   "source": [
    "df = pd.read_csv(\"loan_customer.csv\")\n",
    "# informasi general tentang dataframe\n",
    "df.info()"
   ]
  },
  {
   "cell_type": "code",
   "execution_count": 3,
   "id": "b2a2180b",
   "metadata": {},
   "outputs": [
    {
     "data": {
      "text/html": [
       "<div>\n",
       "<style scoped>\n",
       "    .dataframe tbody tr th:only-of-type {\n",
       "        vertical-align: middle;\n",
       "    }\n",
       "\n",
       "    .dataframe tbody tr th {\n",
       "        vertical-align: top;\n",
       "    }\n",
       "\n",
       "    .dataframe thead th {\n",
       "        text-align: right;\n",
       "    }\n",
       "</style>\n",
       "<table border=\"1\" class=\"dataframe\">\n",
       "  <thead>\n",
       "    <tr style=\"text-align: right;\">\n",
       "      <th></th>\n",
       "      <th>loan_id</th>\n",
       "      <th>birth_date</th>\n",
       "      <th>phone_number</th>\n",
       "      <th>gender</th>\n",
       "      <th>married</th>\n",
       "      <th>dependents</th>\n",
       "      <th>education</th>\n",
       "      <th>self_employed</th>\n",
       "      <th>applicant_income</th>\n",
       "      <th>coapplicant_income</th>\n",
       "      <th>loan_amount</th>\n",
       "      <th>loan_term_month</th>\n",
       "      <th>loan_term_year</th>\n",
       "      <th>credit_history</th>\n",
       "      <th>has_credit_card</th>\n",
       "      <th>property_type</th>\n",
       "      <th>loan_status</th>\n",
       "    </tr>\n",
       "  </thead>\n",
       "  <tbody>\n",
       "    <tr>\n",
       "      <th>0</th>\n",
       "      <td>LP001002</td>\n",
       "      <td>1977-05-15</td>\n",
       "      <td>6.281142e+11</td>\n",
       "      <td>Male</td>\n",
       "      <td>No</td>\n",
       "      <td>0</td>\n",
       "      <td>Graduate</td>\n",
       "      <td>No</td>\n",
       "      <td>5849.0</td>\n",
       "      <td>0.0</td>\n",
       "      <td>100000</td>\n",
       "      <td>360</td>\n",
       "      <td>30</td>\n",
       "      <td>1.0</td>\n",
       "      <td>NaN</td>\n",
       "      <td>house</td>\n",
       "      <td>APPROVE</td>\n",
       "    </tr>\n",
       "    <tr>\n",
       "      <th>1</th>\n",
       "      <td>LP001003</td>\n",
       "      <td>1979-08-24</td>\n",
       "      <td>6.287764e+11</td>\n",
       "      <td>Male</td>\n",
       "      <td>Yes</td>\n",
       "      <td>1</td>\n",
       "      <td>Graduate</td>\n",
       "      <td>No</td>\n",
       "      <td>4583.0</td>\n",
       "      <td>1508.0</td>\n",
       "      <td>128000</td>\n",
       "      <td>360</td>\n",
       "      <td>30</td>\n",
       "      <td>1.0</td>\n",
       "      <td>NaN</td>\n",
       "      <td>studio</td>\n",
       "      <td>REJECT</td>\n",
       "    </tr>\n",
       "    <tr>\n",
       "      <th>2</th>\n",
       "      <td>LP001005</td>\n",
       "      <td>1991-03-28</td>\n",
       "      <td>6.281192e+11</td>\n",
       "      <td>Male</td>\n",
       "      <td>Yes</td>\n",
       "      <td>0</td>\n",
       "      <td>Graduate</td>\n",
       "      <td>Yes</td>\n",
       "      <td>3000.0</td>\n",
       "      <td>0.0</td>\n",
       "      <td>66000</td>\n",
       "      <td>360</td>\n",
       "      <td>30</td>\n",
       "      <td>1.0</td>\n",
       "      <td>NaN</td>\n",
       "      <td>house</td>\n",
       "      <td>APPROVE</td>\n",
       "    </tr>\n",
       "    <tr>\n",
       "      <th>3</th>\n",
       "      <td>LP001006</td>\n",
       "      <td>1980-06-02</td>\n",
       "      <td>6.285634e+10</td>\n",
       "      <td>Male</td>\n",
       "      <td>Yes</td>\n",
       "      <td>0</td>\n",
       "      <td>Not Graduate</td>\n",
       "      <td>No</td>\n",
       "      <td>2583.0</td>\n",
       "      <td>2358.0</td>\n",
       "      <td>120000</td>\n",
       "      <td>360</td>\n",
       "      <td>30</td>\n",
       "      <td>1.0</td>\n",
       "      <td>NaN</td>\n",
       "      <td>house</td>\n",
       "      <td>APPROVE</td>\n",
       "    </tr>\n",
       "    <tr>\n",
       "      <th>4</th>\n",
       "      <td>LP001008</td>\n",
       "      <td>1989-05-19</td>\n",
       "      <td>6.281130e+11</td>\n",
       "      <td>Male</td>\n",
       "      <td>No</td>\n",
       "      <td>0</td>\n",
       "      <td>Graduate</td>\n",
       "      <td>No</td>\n",
       "      <td>6000.0</td>\n",
       "      <td>0.0</td>\n",
       "      <td>141000</td>\n",
       "      <td>360</td>\n",
       "      <td>30</td>\n",
       "      <td>1.0</td>\n",
       "      <td>NaN</td>\n",
       "      <td>house</td>\n",
       "      <td>APPROVE</td>\n",
       "    </tr>\n",
       "  </tbody>\n",
       "</table>\n",
       "</div>"
      ],
      "text/plain": [
       "    loan_id  birth_date  phone_number gender married dependents     education  \\\n",
       "0  LP001002  1977-05-15  6.281142e+11   Male      No          0      Graduate   \n",
       "1  LP001003  1979-08-24  6.287764e+11   Male     Yes          1      Graduate   \n",
       "2  LP001005  1991-03-28  6.281192e+11   Male     Yes          0      Graduate   \n",
       "3  LP001006  1980-06-02  6.285634e+10   Male     Yes          0  Not Graduate   \n",
       "4  LP001008  1989-05-19  6.281130e+11   Male      No          0      Graduate   \n",
       "\n",
       "  self_employed  applicant_income  coapplicant_income  loan_amount  \\\n",
       "0            No            5849.0                 0.0       100000   \n",
       "1            No            4583.0              1508.0       128000   \n",
       "2           Yes            3000.0                 0.0        66000   \n",
       "3            No            2583.0              2358.0       120000   \n",
       "4            No            6000.0                 0.0       141000   \n",
       "\n",
       "   loan_term_month  loan_term_year  credit_history has_credit_card  \\\n",
       "0              360              30             1.0             NaN   \n",
       "1              360              30             1.0             NaN   \n",
       "2              360              30             1.0             NaN   \n",
       "3              360              30             1.0             NaN   \n",
       "4              360              30             1.0             NaN   \n",
       "\n",
       "  property_type loan_status  \n",
       "0         house     APPROVE  \n",
       "1        studio      REJECT  \n",
       "2         house     APPROVE  \n",
       "3         house     APPROVE  \n",
       "4         house     APPROVE  "
      ]
     },
     "execution_count": 3,
     "metadata": {},
     "output_type": "execute_result"
    }
   ],
   "source": [
    "# Cek data sampel\n",
    "df.head()"
   ]
  },
  {
   "cell_type": "markdown",
   "id": "7c0e3893",
   "metadata": {},
   "source": [
    "# Data Cleansing"
   ]
  },
  {
   "cell_type": "markdown",
   "id": "dc4032a4",
   "metadata": {},
   "source": [
    "## Handling missing values"
   ]
  },
  {
   "cell_type": "code",
   "execution_count": 4,
   "id": "b2b5755e",
   "metadata": {},
   "outputs": [
    {
     "data": {
      "text/plain": [
       "loan_id                 0\n",
       "birth_date             49\n",
       "phone_number           52\n",
       "gender                 13\n",
       "married                 3\n",
       "dependents             16\n",
       "education               1\n",
       "self_employed          33\n",
       "applicant_income        9\n",
       "coapplicant_income      0\n",
       "loan_amount             0\n",
       "loan_term_month         0\n",
       "loan_term_year          0\n",
       "credit_history         51\n",
       "has_credit_card       533\n",
       "property_type           1\n",
       "loan_status             0\n",
       "dtype: int64"
      ]
     },
     "execution_count": 4,
     "metadata": {},
     "output_type": "execute_result"
    }
   ],
   "source": [
    "#Detect missing value\n",
    "df.isna().sum()"
   ]
  },
  {
   "cell_type": "code",
   "execution_count": 5,
   "id": "a9e21d71",
   "metadata": {},
   "outputs": [],
   "source": [
    "# drop kolom has_credit_card\n",
    "df = df.drop(columns = [\"has_credit_card\"])"
   ]
  },
  {
   "cell_type": "code",
   "execution_count": 6,
   "id": "ef1ac573",
   "metadata": {},
   "outputs": [],
   "source": [
    "# drop baris dengan missing values\n",
    "df = df.dropna()"
   ]
  },
  {
   "cell_type": "code",
   "execution_count": 7,
   "id": "c6685b29",
   "metadata": {},
   "outputs": [
    {
     "data": {
      "text/plain": [
       "loan_id               0\n",
       "birth_date            0\n",
       "phone_number          0\n",
       "gender                0\n",
       "married               0\n",
       "dependents            0\n",
       "education             0\n",
       "self_employed         0\n",
       "applicant_income      0\n",
       "coapplicant_income    0\n",
       "loan_amount           0\n",
       "loan_term_month       0\n",
       "loan_term_year        0\n",
       "credit_history        0\n",
       "property_type         0\n",
       "loan_status           0\n",
       "dtype: int64"
      ]
     },
     "execution_count": 7,
     "metadata": {},
     "output_type": "execute_result"
    }
   ],
   "source": [
    "# cek apakah sudah berhasil\n",
    "df.isna().sum()"
   ]
  },
  {
   "cell_type": "markdown",
   "id": "d75d760e",
   "metadata": {},
   "source": [
    "## Handling duplicated data"
   ]
  },
  {
   "cell_type": "code",
   "execution_count": 8,
   "id": "f040795a",
   "metadata": {},
   "outputs": [
    {
     "data": {
      "text/plain": [
       "5"
      ]
     },
     "execution_count": 8,
     "metadata": {},
     "output_type": "execute_result"
    }
   ],
   "source": [
    "# cek jumlah duplicated rows\n",
    "# dari semua kolom\n",
    "df.duplicated().sum()"
   ]
  },
  {
   "cell_type": "code",
   "execution_count": 9,
   "id": "bec7e27b",
   "metadata": {},
   "outputs": [
    {
     "data": {
      "text/plain": [
       "0"
      ]
     },
     "execution_count": 9,
     "metadata": {},
     "output_type": "execute_result"
    }
   ],
   "source": [
    "# drop duplicated rows\n",
    "df.drop_duplicates(inplace=True)\n",
    "df.duplicated().sum()"
   ]
  },
  {
   "cell_type": "markdown",
   "id": "a73632f3",
   "metadata": {},
   "source": [
    "## Handling Outlier"
   ]
  },
  {
   "cell_type": "code",
   "execution_count": 10,
   "id": "dfbec136",
   "metadata": {},
   "outputs": [
    {
     "name": "stdout",
     "output_type": "stream",
     "text": [
      "Jumlah baris sebelum memfilter outlier: 429\n",
      "Jumlah baris setelah memfilter outlier: 386\n"
     ]
    }
   ],
   "source": [
    "print(f'Jumlah baris sebelum memfilter outlier: {len(df)}')\n",
    "\n",
    "#for col in ['applicant_income','coapplicant_income', 'loan_amount', 'loan_term_month', 'loan_term_year']:\n",
    "for col in ['applicant_income','coapplicant_income']:\n",
    "  Q1 = df[col].quantile(0.25)\n",
    "  Q3 = df[col].quantile(0.75)\n",
    "  IQR = Q3-Q1\n",
    "  low_limit = Q1 - 1.5*IQR\n",
    "  high_limit = Q3 + 1.5*IQR\n",
    "  df = df[(df[col] >= low_limit) & (df[col] <= high_limit)]\n",
    "\n",
    "print(f'Jumlah baris setelah memfilter outlier: {len(df)}')"
   ]
  },
  {
   "cell_type": "markdown",
   "id": "659efbd3",
   "metadata": {},
   "source": [
    "## Feature Encoding"
   ]
  },
  {
   "cell_type": "code",
   "execution_count": 11,
   "id": "20e217a2",
   "metadata": {},
   "outputs": [
    {
     "name": "stdout",
     "output_type": "stream",
     "text": [
      "value counts of column gender\n",
      "Male      315\n",
      "Female     71\n",
      "Name: gender, dtype: int64\n",
      "------------------------------ \n",
      "\n",
      "value counts of column married\n",
      "Yes    243\n",
      "No     143\n",
      "Name: married, dtype: int64\n",
      "------------------------------ \n",
      "\n",
      "value counts of column education\n",
      "Graduate        293\n",
      "Not Graduate     93\n",
      "Name: education, dtype: int64\n",
      "------------------------------ \n",
      "\n",
      "value counts of column self_employed\n",
      "No     344\n",
      "Yes     42\n",
      "Name: self_employed, dtype: int64\n",
      "------------------------------ \n",
      "\n",
      "value counts of column property_type\n",
      "apartment    155\n",
      "house        122\n",
      "studio       109\n",
      "Name: property_type, dtype: int64\n",
      "------------------------------ \n",
      "\n",
      "value counts of column loan_status\n",
      "APPROVE    268\n",
      "REJECT     118\n",
      "Name: loan_status, dtype: int64\n",
      "------------------------------ \n",
      "\n"
     ]
    }
   ],
   "source": [
    "# pengecekan nilai/entri dari kolom-kolom kategorikal\n",
    "cats_updated = ['gender', 'married', 'education', 'self_employed', 'property_type', 'loan_status']\n",
    "\n",
    "for col in cats_updated:\n",
    "  print(f'value counts of column {col}')\n",
    "  print(df[col].value_counts())\n",
    "  print('---'*10, '\\n')"
   ]
  },
  {
   "cell_type": "code",
   "execution_count": 12,
   "id": "12f59048",
   "metadata": {},
   "outputs": [],
   "source": [
    "# label encoding\n",
    "# untuk kolom gender married education\n",
    "mapping_gender = {\n",
    "    'Female' : 0,\n",
    "    'Male' : 1\n",
    "}\n",
    "\n",
    "mapping_married = {\n",
    "    'No' : 0,\n",
    "    'Yes' : 1\n",
    "}\n",
    "\n",
    "mapping_education = {\n",
    "    'Not Graduate' : 0,\n",
    "    'Graduate' : 1\n",
    "}\n",
    "\n",
    "mapping_self_employed = {\n",
    "    'No' : 0,\n",
    "    'Yes' : 1\n",
    "}\n",
    "\n",
    "mapping_property_type = {\n",
    "    'apartment' : 0,\n",
    "    'house' : 1,\n",
    "    'studio' : 2\n",
    "}\n",
    "\n",
    "mapping_loan_status = {\n",
    "    'REJECT' : 0,\n",
    "    'APPROVE' : 1\n",
    "}\n",
    "\n",
    "df['gender'] = df['gender'].map(mapping_gender)\n",
    "df['married'] = df['married'].map(mapping_married)\n",
    "df['education'] = df['education'].map(mapping_education)\n",
    "df['self_employed'] = df['self_employed'].map(mapping_self_employed)\n",
    "df['property_type'] = df['property_type'].map(mapping_property_type)\n",
    "df['loan_status'] = df['loan_status'].map(mapping_loan_status)"
   ]
  },
  {
   "cell_type": "code",
   "execution_count": 13,
   "id": "0dab94b9",
   "metadata": {},
   "outputs": [],
   "source": [
    "df.to_csv('loan_customer_preprocessing.csv')"
   ]
  },
  {
   "cell_type": "markdown",
   "id": "a7228757",
   "metadata": {},
   "source": [
    "# Business Insight"
   ]
  },
  {
   "cell_type": "markdown",
   "id": "b890d514",
   "metadata": {},
   "source": [
    "## Analisis minat pelanggan berdasarkan pada tipe properti"
   ]
  },
  {
   "cell_type": "code",
   "execution_count": 14,
   "id": "59a054dc",
   "metadata": {
    "scrolled": true
   },
   "outputs": [
    {
     "data": {
      "text/html": [
       "<div>\n",
       "<style scoped>\n",
       "    .dataframe tbody tr th:only-of-type {\n",
       "        vertical-align: middle;\n",
       "    }\n",
       "\n",
       "    .dataframe tbody tr th {\n",
       "        vertical-align: top;\n",
       "    }\n",
       "\n",
       "    .dataframe thead th {\n",
       "        text-align: right;\n",
       "    }\n",
       "</style>\n",
       "<table border=\"1\" class=\"dataframe\">\n",
       "  <thead>\n",
       "    <tr style=\"text-align: right;\">\n",
       "      <th></th>\n",
       "      <th></th>\n",
       "      <th>loan_amount</th>\n",
       "    </tr>\n",
       "    <tr>\n",
       "      <th>property_type</th>\n",
       "      <th>gender</th>\n",
       "      <th></th>\n",
       "    </tr>\n",
       "  </thead>\n",
       "  <tbody>\n",
       "    <tr>\n",
       "      <th rowspan=\"2\" valign=\"top\">0</th>\n",
       "      <th>0</th>\n",
       "      <td>4174000</td>\n",
       "    </tr>\n",
       "    <tr>\n",
       "      <th>1</th>\n",
       "      <td>16418000</td>\n",
       "    </tr>\n",
       "    <tr>\n",
       "      <th rowspan=\"2\" valign=\"top\">1</th>\n",
       "      <th>0</th>\n",
       "      <td>1913000</td>\n",
       "    </tr>\n",
       "    <tr>\n",
       "      <th>1</th>\n",
       "      <td>13441000</td>\n",
       "    </tr>\n",
       "    <tr>\n",
       "      <th rowspan=\"2\" valign=\"top\">2</th>\n",
       "      <th>0</th>\n",
       "      <td>2138000</td>\n",
       "    </tr>\n",
       "    <tr>\n",
       "      <th>1</th>\n",
       "      <td>12857000</td>\n",
       "    </tr>\n",
       "  </tbody>\n",
       "</table>\n",
       "</div>"
      ],
      "text/plain": [
       "                      loan_amount\n",
       "property_type gender             \n",
       "0             0           4174000\n",
       "              1          16418000\n",
       "1             0           1913000\n",
       "              1          13441000\n",
       "2             0           2138000\n",
       "              1          12857000"
      ]
     },
     "execution_count": 14,
     "metadata": {},
     "output_type": "execute_result"
    }
   ],
   "source": [
    "pivot1 = df.pivot_table(index=['property_type','gender'], \n",
    "                           values = ['loan_amount'], \n",
    "                           aggfunc='sum')\n",
    "pivot1"
   ]
  },
  {
   "cell_type": "code",
   "execution_count": 15,
   "id": "c09cc161",
   "metadata": {},
   "outputs": [],
   "source": [
    "# Fungsi untuk menghitung total loan amount\n",
    "def sumLoanAmount (df, gen, prop_typ) :\n",
    "    loan = df[(df.gender == gen) & (df.property_type == prop_typ)]\n",
    "    return loan['loan_amount'].sum()"
   ]
  },
  {
   "cell_type": "code",
   "execution_count": 16,
   "id": "86e5535b",
   "metadata": {},
   "outputs": [],
   "source": [
    "labels = ['Apartment', 'House', 'Studio']"
   ]
  },
  {
   "cell_type": "code",
   "execution_count": 17,
   "id": "825c7704",
   "metadata": {},
   "outputs": [
    {
     "name": "stdout",
     "output_type": "stream",
     "text": [
      "[16418000 13441000 12857000]\n"
     ]
    }
   ],
   "source": [
    "men = np.array([sumLoanAmount(df, 1, 0),\n",
    "                sumLoanAmount(df, 1, 1),\n",
    "                sumLoanAmount(df, 1, 2)])\n",
    "print (men)"
   ]
  },
  {
   "cell_type": "code",
   "execution_count": 18,
   "id": "80b7d4b0",
   "metadata": {
    "scrolled": true
   },
   "outputs": [
    {
     "name": "stdout",
     "output_type": "stream",
     "text": [
      "[4174000 1913000 2138000]\n"
     ]
    }
   ],
   "source": [
    "women = np.array([sumLoanAmount(df, 0, 0),\n",
    "                  sumLoanAmount(df, 0, 1),\n",
    "                  sumLoanAmount(df, 0, 2)])\n",
    "print (women)"
   ]
  },
  {
   "cell_type": "code",
   "execution_count": 19,
   "id": "9dd63490",
   "metadata": {},
   "outputs": [
    {
     "data": {
      "image/png": "[encoded data removed]",
      "text/plain": [
       "<Figure size 432x288 with 1 Axes>"
      ]
     },
     "metadata": {
      "needs_background": "light"
     },
     "output_type": "display_data"
    }
   ],
   "source": [
    "x = np.arange(len(labels))  # lokasi label\n",
    "width = 0.35  # Lebar diagram\n",
    "\n",
    "fig, ax = plt.subplots()\n",
    "rects1 = ax.bar(x - width/2, men/1e6, width, label='Laki-Laki')\n",
    "rects2 = ax.bar(x + width/2, women/1e6, width, label='Perempuan')\n",
    "\n",
    "# Add some text for labels, title and custom x-axis tick labels, etc.\n",
    "ax.set_ylabel('Total Pinjaman (dalam ribuan)')\n",
    "ax.set_title('Minat Pelanggan Berdasarkan Properti')\n",
    "ax.set_xticks(x)\n",
    "ax.set_xticklabels(labels)\n",
    "ax.legend()\n",
    "\n",
    "ax.bar_label(rects1, padding=0)\n",
    "ax.bar_label(rects2, padding=0)\n",
    "\n",
    "fig.tight_layout()\n",
    "\n",
    "fig.savefig('Analisis minat pelanggan berdasarkan pada tipe properti.svg', format='svg', dpi=1200)\n",
    "\n",
    "plt.show()"
   ]
  },
  {
   "cell_type": "markdown",
   "id": "c43363d1",
   "metadata": {},
   "source": [
    "## Analisis pengaruh status perkawinan terhadap jangka waktu meminjam "
   ]
  },
  {
   "cell_type": "code",
   "execution_count": 20,
   "id": "11fefe3e",
   "metadata": {},
   "outputs": [
    {
     "data": {
      "text/html": [
       "<div>\n",
       "<style scoped>\n",
       "    .dataframe tbody tr th:only-of-type {\n",
       "        vertical-align: middle;\n",
       "    }\n",
       "\n",
       "    .dataframe tbody tr th {\n",
       "        vertical-align: top;\n",
       "    }\n",
       "\n",
       "    .dataframe thead th {\n",
       "        text-align: right;\n",
       "    }\n",
       "</style>\n",
       "<table border=\"1\" class=\"dataframe\">\n",
       "  <thead>\n",
       "    <tr style=\"text-align: right;\">\n",
       "      <th></th>\n",
       "      <th></th>\n",
       "      <th>loan_status</th>\n",
       "    </tr>\n",
       "    <tr>\n",
       "      <th>loan_term_year</th>\n",
       "      <th>married</th>\n",
       "      <th></th>\n",
       "    </tr>\n",
       "  </thead>\n",
       "  <tbody>\n",
       "    <tr>\n",
       "      <th>3</th>\n",
       "      <th>0</th>\n",
       "      <td>0</td>\n",
       "    </tr>\n",
       "    <tr>\n",
       "      <th rowspan=\"2\" valign=\"top\">5</th>\n",
       "      <th>0</th>\n",
       "      <td>1</td>\n",
       "    </tr>\n",
       "    <tr>\n",
       "      <th>1</th>\n",
       "      <td>1</td>\n",
       "    </tr>\n",
       "    <tr>\n",
       "      <th>7</th>\n",
       "      <th>1</th>\n",
       "      <td>2</td>\n",
       "    </tr>\n",
       "    <tr>\n",
       "      <th rowspan=\"2\" valign=\"top\">10</th>\n",
       "      <th>0</th>\n",
       "      <td>1</td>\n",
       "    </tr>\n",
       "    <tr>\n",
       "      <th>1</th>\n",
       "      <td>1</td>\n",
       "    </tr>\n",
       "    <tr>\n",
       "      <th rowspan=\"2\" valign=\"top\">15</th>\n",
       "      <th>0</th>\n",
       "      <td>2</td>\n",
       "    </tr>\n",
       "    <tr>\n",
       "      <th>1</th>\n",
       "      <td>15</td>\n",
       "    </tr>\n",
       "    <tr>\n",
       "      <th>20</th>\n",
       "      <th>1</th>\n",
       "      <td>1</td>\n",
       "    </tr>\n",
       "    <tr>\n",
       "      <th rowspan=\"2\" valign=\"top\">25</th>\n",
       "      <th>0</th>\n",
       "      <td>1</td>\n",
       "    </tr>\n",
       "    <tr>\n",
       "      <th>1</th>\n",
       "      <td>2</td>\n",
       "    </tr>\n",
       "    <tr>\n",
       "      <th rowspan=\"2\" valign=\"top\">30</th>\n",
       "      <th>0</th>\n",
       "      <td>83</td>\n",
       "    </tr>\n",
       "    <tr>\n",
       "      <th>1</th>\n",
       "      <td>155</td>\n",
       "    </tr>\n",
       "    <tr>\n",
       "      <th rowspan=\"2\" valign=\"top\">40</th>\n",
       "      <th>0</th>\n",
       "      <td>0</td>\n",
       "    </tr>\n",
       "    <tr>\n",
       "      <th>1</th>\n",
       "      <td>3</td>\n",
       "    </tr>\n",
       "  </tbody>\n",
       "</table>\n",
       "</div>"
      ],
      "text/plain": [
       "                        loan_status\n",
       "loan_term_year married             \n",
       "3              0                  0\n",
       "5              0                  1\n",
       "               1                  1\n",
       "7              1                  2\n",
       "10             0                  1\n",
       "               1                  1\n",
       "15             0                  2\n",
       "               1                 15\n",
       "20             1                  1\n",
       "25             0                  1\n",
       "               1                  2\n",
       "30             0                 83\n",
       "               1                155\n",
       "40             0                  0\n",
       "               1                  3"
      ]
     },
     "execution_count": 20,
     "metadata": {},
     "output_type": "execute_result"
    }
   ],
   "source": [
    "pivot2 = df.pivot_table(index=['loan_term_year','married'], \n",
    "                           values = ['loan_status'], \n",
    "                           aggfunc='sum')\n",
    "pivot2"
   ]
  },
  {
   "cell_type": "code",
   "execution_count": 21,
   "id": "480f2145",
   "metadata": {},
   "outputs": [],
   "source": [
    "# Fungsi untuk menghitung total loan amount\n",
    "def sumLoanStatus (df, marry, loan) :\n",
    "    loan = df[(df.married == marry) & (df.loan_term_year == labels[loan])]\n",
    "    return loan['loan_status'].sum()"
   ]
  },
  {
   "cell_type": "code",
   "execution_count": 22,
   "id": "ed88c201",
   "metadata": {},
   "outputs": [],
   "source": [
    "labels = [3,5,7,10,15,20,25,30,40]"
   ]
  },
  {
   "cell_type": "code",
   "execution_count": 23,
   "id": "75b220a2",
   "metadata": {},
   "outputs": [
    {
     "name": "stdout",
     "output_type": "stream",
     "text": [
      "[  0   1   2   1  15   1   2 155   3]\n"
     ]
    }
   ],
   "source": [
    "mary = np.array([sumLoanStatus(df, 1, 0),\n",
    "                 sumLoanStatus(df, 1, 1),\n",
    "                 sumLoanStatus(df, 1, 2),\n",
    "                 sumLoanStatus(df, 1, 3),\n",
    "                 sumLoanStatus(df, 1, 4),\n",
    "                 sumLoanStatus(df, 1, 5),\n",
    "                 sumLoanStatus(df, 1, 6),\n",
    "                 sumLoanStatus(df, 1, 7),\n",
    "                 sumLoanStatus(df, 1, 8)])\n",
    "print (mary)"
   ]
  },
  {
   "cell_type": "code",
   "execution_count": 24,
   "id": "e09316c5",
   "metadata": {},
   "outputs": [
    {
     "name": "stdout",
     "output_type": "stream",
     "text": [
      "[ 0  1  0  1  2  0  1 83  0]\n"
     ]
    }
   ],
   "source": [
    "Nmary = np.array([sumLoanStatus(df, 0, 0),\n",
    "                 sumLoanStatus(df, 0, 1),\n",
    "                 sumLoanStatus(df, 0, 2),\n",
    "                 sumLoanStatus(df, 0, 3),\n",
    "                 sumLoanStatus(df, 0, 4),\n",
    "                 sumLoanStatus(df, 0, 5),\n",
    "                 sumLoanStatus(df, 0, 6),\n",
    "                 sumLoanStatus(df, 0, 7),\n",
    "                 sumLoanStatus(df, 0, 8)])\n",
    "print (Nmary)"
   ]
  },
  {
   "cell_type": "code",
   "execution_count": 25,
   "id": "22defadb",
   "metadata": {},
   "outputs": [
    {
     "data": {
      "image/png": "[encoded data removed]",
      "text/plain": [
       "<Figure size 432x288 with 1 Axes>"
      ]
     },
     "metadata": {
      "needs_background": "light"
     },
     "output_type": "display_data"
    }
   ],
   "source": [
    "x = np.arange(len(labels))  # lokasi label\n",
    "width = 0.35  # Lebar diagram\n",
    "\n",
    "fig, ax = plt.subplots()\n",
    "rects1 = ax.bar(x - width/2, mary, width, label='Laki-Laki')\n",
    "rects2 = ax.bar(x + width/2, Nmary, width, label='Perempuan')\n",
    "\n",
    "# Add some text for labels, title and custom x-axis tick labels, etc.\n",
    "ax.set_ylabel('Total Nasabah')\n",
    "ax.set_xlabel('Lama Peminjaman (Tahun)')\n",
    "ax.set_title('Pengaruh Status Perkawinan Terhadap Jangka Waktu Peminjaman')\n",
    "ax.set_xticks(x)\n",
    "ax.set_xticklabels(labels)\n",
    "ax.legend()\n",
    "\n",
    "ax.bar_label(rects1, padding=0)\n",
    "ax.bar_label(rects2, padding=0)\n",
    "\n",
    "fig.tight_layout()\n",
    "\n",
    "fig.savefig('Analisis pengaruh status perkawinan terhadap jangka waktu meminjam.svg', format='svg', dpi=1200)\n",
    "\n",
    "plt.show()"
   ]
  }
 ],
 "metadata": {
  "kernelspec": {
   "display_name": "Python 3 (ipykernel)",
   "language": "python",
   "name": "python3"
  },
  "language_info": {
   "codemirror_mode": {
    "name": "ipython",
    "version": 3
   },
   "file_extension": ".py",
   "mimetype": "text/x-python",
   "name": "python",
   "nbconvert_exporter": "python",
   "pygments_lexer": "ipython3",
   "version": "3.10.2"
  }
 },
 "nbformat": 4,
 "nbformat_minor": 5
}
